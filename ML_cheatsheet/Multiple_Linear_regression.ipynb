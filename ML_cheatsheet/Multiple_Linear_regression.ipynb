{
 "cells": [
  {
   "cell_type": "markdown",
   "id": "e09f3459",
   "metadata": {},
   "source": [
    "Multiple_Linear_regression"
   ]
  },
  {
   "cell_type": "code",
   "execution_count": 2,
   "id": "be8d1c6d",
   "metadata": {},
   "outputs": [
    {
     "name": "stdout",
     "output_type": "stream",
     "text": [
      "   area  rooms   price  bathroom\n",
      "0  2104      3  399900         3\n",
      "1  1600      3  329900         3\n",
      "2  2400      3  369000         4\n",
      "3  1416      2  232000         2\n",
      "4  3000      4  539900         3\n",
      "   area  rooms  bathroom\n",
      "0  2104      3         3\n",
      "1  1600      3         3\n",
      "2  2400      3         4\n",
      "3  1416      2         2\n",
      "4  3000      4         3\n",
      "    price\n",
      "0  399900\n",
      "1  329900\n",
      "2  369000\n",
      "3  232000\n",
      "4  539900\n",
      "Train\n",
      "[65354.25889315]\n",
      "[[  139.51487417 -5941.55775543  6487.61017925]]\n",
      "Predict\n",
      "[[321709.88106858]\n",
      " [485537.0386889 ]]\n"
     ]
    }
   ],
   "source": [
    "from sklearn.linear_model import LinearRegression\n",
    "import pickle\n",
    "import numpy as np\n",
    "import pandas as pd\n",
    "# import os\n",
    "import matplotlib.pyplot as plt\n",
    "np.set_printoptions(suppress=True)\n",
    "\n",
    "data = pd.read_csv('https://raw.githubusercontent.com/ekaratnida/Applied-machine-learning/master/Week04-workshop-1/data.txt')\n",
    "\n",
    "data['bathroom'] = np.random.randint(1,5,size = 47)\n",
    "\n",
    "print(data.head())\n",
    "\n",
    "x = data[['area', 'rooms', 'bathroom']]\n",
    "print(x.head())\n",
    "\n",
    "y = data[[\"price\"]] \n",
    "print(y.head())\n",
    "\n",
    "\"\"\"Train model\"\"\"\n",
    "print(\"Train\")\n",
    "lin_reg = LinearRegression()\n",
    "lin_reg.fit(x, y)\n",
    "print(lin_reg.intercept_)\n",
    "print(lin_reg.coef_)\n",
    "\n",
    "\"\"\"Predict\"\"\"\n",
    "print(\"Predict\")\n",
    "#X_test = np.array([[2000,6]])\n",
    "x_test = pd.DataFrame(\n",
    "    {\n",
    "    \"area\":[2000,3000],\n",
    "    \"rooms\":[6,3],\n",
    "    \"bathroom\": [2,3]\n",
    "    }\n",
    ")\n",
    "\n",
    "result = lin_reg.predict(x_test)\n",
    "print(result)"
   ]
  },
  {
   "cell_type": "code",
   "execution_count": null,
   "id": "dd9aa437",
   "metadata": {},
   "outputs": [],
   "source": []
  }
 ],
 "metadata": {
  "kernelspec": {
   "display_name": "Python 3",
   "language": "python",
   "name": "python3"
  },
  "language_info": {
   "codemirror_mode": {
    "name": "ipython",
    "version": 3
   },
   "file_extension": ".py",
   "mimetype": "text/x-python",
   "name": "python",
   "nbconvert_exporter": "python",
   "pygments_lexer": "ipython3",
   "version": "3.8.8"
  }
 },
 "nbformat": 4,
 "nbformat_minor": 5
}
