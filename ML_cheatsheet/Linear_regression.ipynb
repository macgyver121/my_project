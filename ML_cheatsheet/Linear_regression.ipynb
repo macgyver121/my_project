{
 "cells": [
  {
   "cell_type": "markdown",
   "id": "2f72ae2f",
   "metadata": {},
   "source": [
    "Sklearn (Normail equation by library)"
   ]
  },
  {
   "cell_type": "code",
   "execution_count": 1,
   "id": "05e0e78f",
   "metadata": {},
   "outputs": [
    {
     "name": "stdout",
     "output_type": "stream",
     "text": [
      "0.5714285714285712  ,  [0.85714286]\n",
      "[6.57142857 9.14285714]\n"
     ]
    }
   ],
   "source": [
    "import numpy as np\n",
    "from sklearn.linear_model import LinearRegression \n",
    "x = np.array([[0,2,3]]).T\n",
    "y = np.array([1,1,4])\n",
    "\n",
    "lin_reg = LinearRegression()\n",
    "lin_reg.fit(x, y)\n",
    "print(lin_reg.intercept_, \" , \", lin_reg.coef_)\n",
    "x_n = np.array([[7, 10]]).T\n",
    "y_p = lin_reg.predict(x_n)\n",
    "print(y_p)"
   ]
  },
  {
   "cell_type": "code",
   "execution_count": null,
   "id": "d5e189bd",
   "metadata": {},
   "outputs": [],
   "source": []
  }
 ],
 "metadata": {
  "kernelspec": {
   "display_name": "Python 3",
   "language": "python",
   "name": "python3"
  },
  "language_info": {
   "codemirror_mode": {
    "name": "ipython",
    "version": 3
   },
   "file_extension": ".py",
   "mimetype": "text/x-python",
   "name": "python",
   "nbconvert_exporter": "python",
   "pygments_lexer": "ipython3",
   "version": "3.8.8"
  }
 },
 "nbformat": 4,
 "nbformat_minor": 5
}
