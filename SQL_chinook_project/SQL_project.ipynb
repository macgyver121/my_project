{
  "nbformat": 4,
  "nbformat_minor": 0,
  "metadata": {
    "colab": {
      "provenance": [],
      "toc_visible": true,
      "authorship_tag": "ABX9TyMx3Mw2u+kLNPttfzWpkhhe",
      "include_colab_link": true
    },
    "kernelspec": {
      "name": "python3",
      "display_name": "Python 3"
    },
    "language_info": {
      "name": "python"
    }
  },
  "cells": [
    {
      "cell_type": "markdown",
      "metadata": {
        "id": "view-in-github",
        "colab_type": "text"
      },
      "source": [
        "<a href=\"https://colab.research.google.com/github/macgyver121/my_project/blob/main/SQL_chinook_project/SQL_project.ipynb\" target=\"_parent\"><img src=\"https://colab.research.google.com/assets/colab-badge.svg\" alt=\"Open In Colab\"/></a>"
      ]
    },
    {
      "cell_type": "markdown",
      "source": [
        "#SQL Project using Chinook.db"
      ],
      "metadata": {
        "id": "xy3YxUUm38sy"
      }
    },
    {
      "cell_type": "code",
      "source": [
        "# Imports\n",
        "import sqlite3 as sq3\n",
        "import pandas.io.sql as pds\n",
        "import pandas as pd"
      ],
      "metadata": {
        "id": "p59hUbcm0D1W"
      },
      "execution_count": 10,
      "outputs": []
    },
    {
      "cell_type": "code",
      "source": [
        "path = '/content/chinook.db'"
      ],
      "metadata": {
        "id": "0Fpq4-x70WDp"
      },
      "execution_count": 11,
      "outputs": []
    },
    {
      "cell_type": "code",
      "source": [
        "con = sq3.Connection(path)"
      ],
      "metadata": {
        "id": "Vq48yVWn0cJH"
      },
      "execution_count": 12,
      "outputs": []
    },
    {
      "cell_type": "code",
      "source": [
        "query = \"\"\"\n",
        "SELECT *\n",
        "FROM artists;\n",
        "\"\"\"\n",
        "q = pd.read_sql(query, con)\n",
        "print(q)"
      ],
      "metadata": {
        "colab": {
          "base_uri": "https://localhost:8080/"
        },
        "id": "C5cgpmFT0duW",
        "outputId": "d7efc978-4e8c-4d51-8c92-49d254b7db2e"
      },
      "execution_count": 13,
      "outputs": [
        {
          "output_type": "stream",
          "name": "stdout",
          "text": [
            "     ArtistId                                               Name\n",
            "0           1                                              AC/DC\n",
            "1           2                                             Accept\n",
            "2           3                                          Aerosmith\n",
            "3           4                                  Alanis Morissette\n",
            "4           5                                    Alice In Chains\n",
            "..        ...                                                ...\n",
            "270       271   Mela Tenenbaum, Pro Musica Prague & Richard Kapp\n",
            "271       272                             Emerson String Quartet\n",
            "272       273  C. Monteverdi, Nigel Rogers - Chiaroscuro; Lon...\n",
            "273       274                                      Nash Ensemble\n",
            "274       275                              Philip Glass Ensemble\n",
            "\n",
            "[275 rows x 2 columns]\n"
          ]
        }
      ]
    },
    {
      "cell_type": "code",
      "source": [
        "# show list of table\n",
        "try:\n",
        "\t\n",
        "\t# Making a connection between sqlite3\n",
        "\t# database and Python Program\n",
        "\tsqliteConnection = sq3.connect(path)\n",
        "\t\n",
        "\t# If sqlite3 makes a connection with python\n",
        "\t# program then it will print \"Connected to SQLite\"\n",
        "\t# Otherwise it will show errors\n",
        "\tprint(\"Connected to SQLite\")\n",
        "\n",
        "\t# Getting all tables from sqlite_master\n",
        "\tsql_query = \"\"\"SELECT name FROM sqlite_master\n",
        "\tWHERE type='table';\"\"\"\n",
        "\n",
        "\t# Creating cursor object using connection object\n",
        "\tcursor = sqliteConnection.cursor()\n",
        "\t\n",
        "\t# executing our sql query\n",
        "\tcursor.execute(sql_query)\n",
        "\tprint(\"List of tables\\n\")\n",
        "\t\n",
        "\t# printing all tables list\n",
        "\tprint(cursor.fetchall())\n",
        "\n",
        "except sq3.Error as error:\n",
        "\tprint(\"Failed to execute the above query\", error)\n",
        "\t\n",
        "finally:\n",
        "\n",
        "\t# Inside Finally Block, If connection is\n",
        "\t# open, we need to close it\n",
        "\tif sqliteConnection:\n",
        "\t\t\n",
        "\t\t# using close() method, we will close\n",
        "\t\t# the connection\n",
        "\t\tsqliteConnection.close()\n",
        "\t\t\n",
        "\t\t# After closing connection object, we\n",
        "\t\t# will print \"the sqlite connection is\n",
        "\t\t# closed\"\n",
        "\t\tprint(\"the sqlite connection is closed\")\n"
      ],
      "metadata": {
        "colab": {
          "base_uri": "https://localhost:8080/"
        },
        "id": "pnZx-S0C3esZ",
        "outputId": "b51191d6-c00f-4e6c-f872-e3d0b195efb1"
      },
      "execution_count": 14,
      "outputs": [
        {
          "output_type": "stream",
          "name": "stdout",
          "text": [
            "Connected to SQLite\n",
            "List of tables\n",
            "\n",
            "[('albums',), ('sqlite_sequence',), ('artists',), ('customers',), ('employees',), ('genres',), ('invoices',), ('invoice_items',), ('media_types',), ('playlists',), ('playlist_track',), ('tracks',), ('sqlite_stat1',)]\n",
            "the sqlite connection is closed\n"
          ]
        }
      ]
    },
    {
      "cell_type": "markdown",
      "source": [
        "## Question 1: Which city have the most Invoices?"
      ],
      "metadata": {
        "id": "HwkgVYPdB8hC"
      }
    },
    {
      "cell_type": "code",
      "source": [
        "query = \"\"\"\n",
        "SELECT billingcity,COUNT(billingcity) AS Invoice_Number\n",
        "FROM invoices\n",
        "GROUP BY billingcity\n",
        "ORDER BY Invoice_Number DESC\n",
        "LIMIT 8;\n",
        "\"\"\"\n",
        "q = pd.read_sql(query, con)\n",
        "print(q)"
      ],
      "metadata": {
        "colab": {
          "base_uri": "https://localhost:8080/"
        },
        "id": "1Hujxvej0hAs",
        "outputId": "012e7ab3-ba4f-487a-ee60-835b4a1bbf1e"
      },
      "execution_count": 15,
      "outputs": [
        {
          "output_type": "stream",
          "name": "stdout",
          "text": [
            "     BillingCity  Invoice_Number\n",
            "0      São Paulo              14\n",
            "1         Prague              14\n",
            "2          Paris              14\n",
            "3  Mountain View              14\n",
            "4         London              14\n",
            "5         Berlin              14\n",
            "6    Yellowknife               7\n",
            "7       Winnipeg               7\n"
          ]
        }
      ]
    },
    {
      "cell_type": "markdown",
      "source": [
        "## Question 2: Which country has the best customers?"
      ],
      "metadata": {
        "id": "Q3-_MQwBCzr9"
      }
    },
    {
      "cell_type": "code",
      "source": [
        "query = \"\"\"\n",
        "SELECT billingcountry,SUM(total) AS InvoiceTotal\n",
        "FROM invoices\n",
        "GROUP BY billingcountry\n",
        "ORDER BY InvoiceTotal DESC\n",
        "LIMIT 5;\n",
        "\"\"\"\n",
        "q = pd.read_sql(query, con)\n",
        "print(q)"
      ],
      "metadata": {
        "colab": {
          "base_uri": "https://localhost:8080/"
        },
        "id": "PBn4G8qDCL6M",
        "outputId": "7343824b-7b85-4934-e692-e395a9b5d3c2"
      },
      "execution_count": 16,
      "outputs": [
        {
          "output_type": "stream",
          "name": "stdout",
          "text": [
            "  BillingCountry  InvoiceTotal\n",
            "0            USA        523.06\n",
            "1         Canada        303.96\n",
            "2         France        195.10\n",
            "3         Brazil        190.10\n",
            "4        Germany        156.48\n"
          ]
        }
      ]
    },
    {
      "cell_type": "markdown",
      "source": [
        "## Question 3: Who is the best customer?"
      ],
      "metadata": {
        "id": "RUHS60VAEOSP"
      }
    },
    {
      "cell_type": "code",
      "source": [
        "query = \"\"\"\n",
        "SELECT C.customerid, C.firstname, C.lastname, SUM(I.total) AS total_spending\n",
        "FROM customers C\n",
        "JOIN invoices I \n",
        "ON C.customerid = I.customerid\n",
        "GROUP BY (C.customerid)\n",
        "ORDER BY total_spending DESC\n",
        "LIMIT 3;\n",
        "\"\"\"\n",
        "q = pd.read_sql(query, con)\n",
        "print(q)"
      ],
      "metadata": {
        "colab": {
          "base_uri": "https://localhost:8080/"
        },
        "id": "H52GER8CDA9E",
        "outputId": "2904dbc5-f0dd-4564-875a-58a742d02dd0"
      },
      "execution_count": 17,
      "outputs": [
        {
          "output_type": "stream",
          "name": "stdout",
          "text": [
            "   CustomerId FirstName    LastName  total_spending\n",
            "0           6    Helena        Holý           49.62\n",
            "1          26   Richard  Cunningham           47.62\n",
            "2          57      Luis       Rojas           46.62\n"
          ]
        }
      ]
    },
    {
      "cell_type": "markdown",
      "source": [
        "## Question 4: Use your query to return the email, first name, last name, and Genre of all Pop Music listeners.Return your list ordered alphabetically by email address starting with A."
      ],
      "metadata": {
        "id": "UV9diSXmFeWB"
      }
    },
    {
      "cell_type": "code",
      "source": [
        "query = \"\"\"\n",
        "SELECT DISTINCT email AS Email,firstname AS FirstName, lastname AS LastName, genres.name AS Name\n",
        "FROM customers\n",
        "JOIN invoices ON invoices.customerid = customers.customerid\n",
        "JOIN invoice_items ON invoice_items.invoiceid = invoices.invoiceid\n",
        "JOIN tracks ON tracks.trackid = invoice_items.trackid\n",
        "JOIN genres ON genres.genreid = tracks.genreid\n",
        "WHERE genres.name LIKE 'Pop'\n",
        "ORDER BY email;\n",
        "\"\"\"\n",
        "q = pd.read_sql(query, con)\n",
        "print(q)"
      ],
      "metadata": {
        "colab": {
          "base_uri": "https://localhost:8080/"
        },
        "id": "Oyt_FJ2nEd-4",
        "outputId": "b760245b-e56a-42fa-8f60-e1fc57f03133"
      },
      "execution_count": 18,
      "outputs": [
        {
          "output_type": "stream",
          "name": "stdout",
          "text": [
            "                       Email  FirstName      LastName Name\n",
            "0     astrid.gruber@apple.at     Astrid        Gruber  Pop\n",
            "1   fernadaramos4@uol.com.br   Fernanda         Ramos  Pop\n",
            "2   frantisekw@jetbrains.com  František   Wichterlová  Pop\n",
            "3        jfernandes@yahoo.pt       João     Fernandes  Pop\n",
            "4    johavanderberg@yahoo.nl   Johannes  Van der Berg  Pop\n",
            "5     johngordon22@yahoo.com       John        Gordon  Pop\n",
            "6        kachase@hotmail.com      Kathy         Chase  Pop\n",
            "7      kara.nielsen@jubii.dk       Kara       Nielsen  Pop\n",
            "8      leonekohler@surfeu.de     Leonie        Köhler  Pop\n",
            "9       luisg@embraer.com.br       Luís     Gonçalves  Pop\n",
            "10   marc.dubois@hotmail.com       Marc        Dubois  Pop\n",
            "11      patrick.gray@aol.com    Patrick          Gray  Pop\n",
            "12     steve.murray@yahoo.uk      Steve        Murray  Pop\n"
          ]
        }
      ]
    },
    {
      "cell_type": "markdown",
      "source": [
        "## Question 5: Who is writing the pop music and how many?"
      ],
      "metadata": {
        "id": "_Hyv-Wc-eVQK"
      }
    },
    {
      "cell_type": "code",
      "source": [
        "query = \"\"\"\n",
        "SELECT artists.artistid, artists.name,COUNT(artists.artistid) AS number_of_songs\n",
        "FROM tracks\n",
        "JOIN albums ON albums.albumid = tracks.albumid\n",
        "JOIN artists ON artists.artistid = albums.artistid\n",
        "JOIN genres ON genres.genreid = tracks.genreid\n",
        "WHERE genres.name LIKE 'Pop'\n",
        "GROUP BY artists.artistid\n",
        "ORDER BY number_of_songs DESC\n",
        "LIMIT 10;\n",
        "\"\"\"\n",
        "q = pd.read_sql(query, con)\n",
        "print(q)"
      ],
      "metadata": {
        "colab": {
          "base_uri": "https://localhost:8080/"
        },
        "id": "iCrUSh8dGXz_",
        "outputId": "31cf6d9c-d4c5-48c6-a5c6-55332c869912"
      },
      "execution_count": 19,
      "outputs": [
        {
          "output_type": "stream",
          "name": "stdout",
          "text": [
            "   ArtistId             Name  number_of_songs\n",
            "0       150               U2               23\n",
            "1        21  Various Artists               14\n",
            "2       252    Amy Winehouse               11\n"
          ]
        }
      ]
    },
    {
      "cell_type": "markdown",
      "source": [
        "## Question 6: Return all the track names that have a song length longer than the average song length."
      ],
      "metadata": {
        "id": "2RY014-AfPVh"
      }
    },
    {
      "cell_type": "code",
      "source": [
        "query = \"\"\"\n",
        "SELECT name,Milliseconds\n",
        "FROM tracks\n",
        "WHERE Milliseconds > (\n",
        "\tSELECT AVG(Milliseconds) AS avg_track_length\n",
        "\tFROM tracks)\n",
        "ORDER BY Milliseconds DESC;\n",
        "\"\"\"\n",
        "q = pd.read_sql(query, con)\n",
        "print(q)"
      ],
      "metadata": {
        "colab": {
          "base_uri": "https://localhost:8080/"
        },
        "id": "nLAyRyn0fHD8",
        "outputId": "72841077-b245-4040-cc7b-a4d323fe7bb4"
      },
      "execution_count": 22,
      "outputs": [
        {
          "output_type": "stream",
          "name": "stdout",
          "text": [
            "                                                  Name  Milliseconds\n",
            "0                               Occupation / Precipice       5286953\n",
            "1                              Through a Looking Glass       5088838\n",
            "2                          Greetings from Earth, Pt. 1       2960293\n",
            "3                              The Man With Nine Lives       2956998\n",
            "4                          Battlestar Galactica, Pt. 2       2956081\n",
            "..                                                 ...           ...\n",
            "489                                   22 Acacia Avenue        395572\n",
            "490                                  The Unforgiven II        395520\n",
            "491                                 The Shortest Straw        395389\n",
            "492  Concerto for Clarinet in A Major, K. 622: II. ...        394482\n",
            "493                                        Wicked Ways        393691\n",
            "\n",
            "[494 rows x 2 columns]\n"
          ]
        }
      ]
    },
    {
      "cell_type": "markdown",
      "source": [
        "## Question 7: Find all the customers who bought the best-selling singer's songs in descending order of purchase amount."
      ],
      "metadata": {
        "id": "IhnvW4ofhzuQ"
      }
    },
    {
      "cell_type": "code",
      "source": [
        "query = \"\"\"\n",
        "SELECT artists.artistid AS artist_id,artists.name AS artist_name, SUM(invoice_items.UnitPrice*invoice_items.Quantity) AS total_sales\n",
        "FROM invoice_items\n",
        "JOIN tracks ON tracks.trackid = invoice_items.trackid\n",
        "JOIN albums ON albums.albumid = tracks.albumid\n",
        "JOIN artists ON artists.artistid = albums.artistid\n",
        "GROUP BY 1\n",
        "ORDER BY 3 DESC\n",
        "LIMIT 1\n",
        "\"\"\"\n",
        "q = pd.read_sql(query, con)\n",
        "print(q)"
      ],
      "metadata": {
        "colab": {
          "base_uri": "https://localhost:8080/"
        },
        "id": "PWeVV1S2f23O",
        "outputId": "39fc2c39-e3f7-44b5-82f0-4f578c30736f"
      },
      "execution_count": 25,
      "outputs": [
        {
          "output_type": "stream",
          "name": "stdout",
          "text": [
            "   artist_id  artist_name  total_sales\n",
            "0         90  Iron Maiden        138.6\n"
          ]
        }
      ]
    },
    {
      "cell_type": "code",
      "source": [
        "query = \"\"\"\n",
        "WITH tbl_best_selling_artist AS(\n",
        "    SELECT artists.artistid AS artist_id,artists.name AS artist_name, SUM(invoice_items.UnitPrice*invoice_items.Quantity) AS total_sales\n",
        "    FROM invoice_items\n",
        "    JOIN tracks ON tracks.trackid = invoice_items.trackid\n",
        "    JOIN albums ON albums.albumid = tracks.albumid\n",
        "    JOIN artists ON artists.artistid = albums.artistid\n",
        "    GROUP BY 1\n",
        "    ORDER BY 3 DESC\n",
        "    LIMIT 1\n",
        ")\n",
        "\n",
        "SELECT bsa.artist_name,SUM(il.UnitPrice*il.Quantity) AS amount_spent,c.customerid,c.firstname,c.lastname\n",
        "FROM invoices i\n",
        "JOIN customers c ON c.customerid = i.customerid\n",
        "JOIN invoice_items il ON il.invoiceid = i.invoiceid\n",
        "JOIN tracks t ON t.trackid = il.trackid\n",
        "JOIN albums alb ON alb.albumid = t.albumid\n",
        "JOIN tbl_best_selling_artist bsa ON bsa.artist_id = alb.artistid\n",
        "GROUP BY 1,3,4,5\n",
        "ORDER BY 2 DESC;\n",
        "\n",
        "\"\"\"\n",
        "q = pd.read_sql(query, con)\n",
        "print(q)"
      ],
      "metadata": {
        "colab": {
          "base_uri": "https://localhost:8080/"
        },
        "id": "hsaECqowhmKR",
        "outputId": "c2848541-69ed-41cd-d7f4-21cd4c8179a9"
      },
      "execution_count": 29,
      "outputs": [
        {
          "output_type": "stream",
          "name": "stdout",
          "text": [
            "    artist_name  amount_spent  CustomerId  FirstName     LastName\n",
            "0   Iron Maiden         17.82          55       Mark       Taylor\n",
            "1   Iron Maiden         15.84          35   Madalena      Sampaio\n",
            "2   Iron Maiden         13.86          16      Frank       Harris\n",
            "3   Iron Maiden         13.86          36     Hannah    Schneider\n",
            "4   Iron Maiden          8.91           5  František  Wichterlová\n",
            "5   Iron Maiden          8.91          27    Patrick         Gray\n",
            "6   Iron Maiden          5.94          19        Tim        Goyer\n",
            "7   Iron Maiden          5.94          39    Camille      Bernard\n",
            "8   Iron Maiden          5.94          58      Manoj       Pareek\n",
            "9   Iron Maiden          4.95           7     Astrid       Gruber\n",
            "10  Iron Maiden          4.95          25     Victor      Stevens\n",
            "11  Iron Maiden          3.96          15   Jennifer     Peterson\n",
            "12  Iron Maiden          3.96          54      Steve       Murray\n",
            "13  Iron Maiden          2.97          50    Enrique        Muñoz\n",
            "14  Iron Maiden          1.98          11  Alexandre        Rocha\n",
            "15  Iron Maiden          1.98          13   Fernanda        Ramos\n",
            "16  Iron Maiden          1.98          31     Martha         Silk\n",
            "17  Iron Maiden          1.98          33      Ellie     Sullivan\n",
            "18  Iron Maiden          1.98          51     Joakim    Johansson\n",
            "19  Iron Maiden          1.98          52       Emma        Jones\n",
            "20  Iron Maiden          1.98          53       Phil       Hughes\n",
            "21  Iron Maiden          1.98          59       Puja   Srivastava\n",
            "22  Iron Maiden          0.99          10    Eduardo      Martins\n",
            "23  Iron Maiden          0.99          30     Edward      Francis\n",
            "24  Iron Maiden          0.99          45   Ladislav       Kovács\n",
            "25  Iron Maiden          0.99          46       Hugh     O'Reilly\n",
            "26  Iron Maiden          0.99          49  Stanisław       Wójcik\n"
          ]
        }
      ]
    },
    {
      "cell_type": "code",
      "source": [],
      "metadata": {
        "id": "EQkHYaTshrVK"
      },
      "execution_count": null,
      "outputs": []
    }
  ]
}