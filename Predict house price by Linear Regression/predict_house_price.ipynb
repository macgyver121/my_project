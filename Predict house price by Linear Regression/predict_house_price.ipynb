{
  "nbformat": 4,
  "nbformat_minor": 0,
  "metadata": {
    "colab": {
      "provenance": [],
      "authorship_tag": "ABX9TyNZK1/u12Ze/TNKasf6k99Z",
      "include_colab_link": true
    },
    "kernelspec": {
      "name": "python3",
      "display_name": "Python 3"
    },
    "language_info": {
      "name": "python"
    }
  },
  "cells": [
    {
      "cell_type": "markdown",
      "metadata": {
        "id": "view-in-github",
        "colab_type": "text"
      },
      "source": [
        "<a href=\"https://colab.research.google.com/github/macgyver121/my_project/blob/main/Predict%20house%20price%20by%20Linear%20Regression/predict_house_price.ipynb\" target=\"_parent\"><img src=\"https://colab.research.google.com/assets/colab-badge.svg\" alt=\"Open In Colab\"/></a>"
      ]
    },
    {
      "cell_type": "code",
      "execution_count": 8,
      "metadata": {
        "id": "BWrMv_yvA-x0",
        "colab": {
          "base_uri": "https://localhost:8080/",
          "height": 451
        },
        "outputId": "21640adf-04ef-4f78-a3ed-bf862da13e5c"
      },
      "outputs": [
        {
          "output_type": "stream",
          "name": "stdout",
          "text": [
            "   area  rooms   price  bathroom\n",
            "0  2104      3  399900         4\n",
            "1  1600      3  329900         3\n",
            "2  2400      3  369000         3\n",
            "3  1416      2  232000         2\n",
            "4  3000      4  539900         4\n",
            "   area  rooms  bathroom\n",
            "0  2104      3         4\n",
            "1  1600      3         3\n",
            "2  2400      3         3\n",
            "3  1416      2         2\n",
            "4  3000      4         4\n",
            "    price\n",
            "0  399900\n",
            "1  329900\n",
            "2  369000\n",
            "3  232000\n",
            "4  539900\n",
            "Train\n",
            "[116300.13210334]\n",
            "[[   136.78294486  -3681.22625048 -12899.87223699]]\n",
            "Predict\n",
            "[[341978.91984847]\n",
            " [476905.67122392]]\n",
            "Deploy\n"
          ]
        },
        {
          "output_type": "display_data",
          "data": {
            "text/plain": [
              "<IPython.core.display.Javascript object>"
            ],
            "application/javascript": [
              "\n",
              "    async function download(id, filename, size) {\n",
              "      if (!google.colab.kernel.accessAllowed) {\n",
              "        return;\n",
              "      }\n",
              "      const div = document.createElement('div');\n",
              "      const label = document.createElement('label');\n",
              "      label.textContent = `Downloading \"${filename}\": `;\n",
              "      div.appendChild(label);\n",
              "      const progress = document.createElement('progress');\n",
              "      progress.max = size;\n",
              "      div.appendChild(progress);\n",
              "      document.body.appendChild(div);\n",
              "\n",
              "      const buffers = [];\n",
              "      let downloaded = 0;\n",
              "\n",
              "      const channel = await google.colab.kernel.comms.open(id);\n",
              "      // Send a message to notify the kernel that we're ready.\n",
              "      channel.send({})\n",
              "\n",
              "      for await (const message of channel.messages) {\n",
              "        // Send a message to notify the kernel that we're ready.\n",
              "        channel.send({})\n",
              "        if (message.buffers) {\n",
              "          for (const buffer of message.buffers) {\n",
              "            buffers.push(buffer);\n",
              "            downloaded += buffer.byteLength;\n",
              "            progress.value = downloaded;\n",
              "          }\n",
              "        }\n",
              "      }\n",
              "      const blob = new Blob(buffers, {type: 'application/binary'});\n",
              "      const a = document.createElement('a');\n",
              "      a.href = window.URL.createObjectURL(blob);\n",
              "      a.download = filename;\n",
              "      div.appendChild(a);\n",
              "      a.click();\n",
              "      div.remove();\n",
              "    }\n",
              "  "
            ]
          },
          "metadata": {}
        },
        {
          "output_type": "display_data",
          "data": {
            "text/plain": [
              "<IPython.core.display.Javascript object>"
            ],
            "application/javascript": [
              "download(\"download_113613f3-5e1e-4efe-8827-1e033b2dea41\", \"model2.sav\", 574)"
            ]
          },
          "metadata": {}
        }
      ],
      "source": [
        "from sklearn.linear_model import LinearRegression\n",
        "import pickle\n",
        "import numpy as np\n",
        "import pandas as pd\n",
        "# import os\n",
        "import matplotlib.pyplot as plt\n",
        "np.set_printoptions(suppress=True)\n",
        "\n",
        "data = pd.read_csv('https://raw.githubusercontent.com/macgyver121/my_project/main/Predict%20house%20price%20by%20Linear%20Regression/example_houseprice_data.txt')\n",
        "\n",
        "data['bathroom'] = np.random.randint(1,5,size = 47)\n",
        "\n",
        "print(data.head())\n",
        "\n",
        "x = data[['area', 'rooms', 'bathroom']]\n",
        "print(x.head())\n",
        "\n",
        "y = data[[\"price\"]] \n",
        "print(y.head())\n",
        "\n",
        "\"\"\"Train model\"\"\"\n",
        "print(\"Train\")\n",
        "lin_reg = LinearRegression()\n",
        "lin_reg.fit(x, y)\n",
        "print(lin_reg.intercept_)\n",
        "print(lin_reg.coef_)\n",
        "\n",
        "\"\"\"Predict\"\"\"\n",
        "print(\"Predict\")\n",
        "#X_test = np.array([[2000,6]])\n",
        "x_test = pd.DataFrame(\n",
        "    {\n",
        "    \"area\":[2000,3000,],\n",
        "    \"rooms\":[6,3],\n",
        "    \"bathroom\": [2,3]\n",
        "    }\n",
        ")\n",
        "\n",
        "result = lin_reg.predict(x_test)\n",
        "print(result)\n",
        "\n",
        "\"\"\"Deploy\"\"\"\n",
        "print(\"Deploy\")\n",
        "pickle.dump(lin_reg, open('model2.sav','wb') )\n",
        "from google.colab import files\n",
        "files.download('model2.sav')"
      ]
    },
    {
      "cell_type": "code",
      "source": [
        "plt.figure(figsize = (15,4), dpi=100)\n",
        "plt.subplot(131)\n",
        "plt.scatter(x[['area']],y)\n",
        "plt.xlabel(\"Size of house (X1)\")\n",
        "plt.ylabel(\"Price (Y)\")\n",
        "plt.subplot(132)\n",
        "plt.scatter(x[['rooms']],y)\n",
        "plt.xlabel(\"Number of Bedrooms (X2)\")\n",
        "plt.ylabel(\"Price (Y)\")\n",
        "plt.subplot(133)\n",
        "plt.scatter(x[['bathroom']],y)\n",
        "plt.xlabel(\"Number of Bathrooms (X3)\")\n",
        "plt.ylabel(\"Price (Y)\")"
      ],
      "metadata": {
        "id": "OgBo6IPTBMKS",
        "colab": {
          "base_uri": "https://localhost:8080/",
          "height": 399
        },
        "outputId": "7fc85250-8e35-486a-f97a-7df057e455a9"
      },
      "execution_count": 9,
      "outputs": [
        {
          "output_type": "execute_result",
          "data": {
            "text/plain": [
              "Text(0, 0.5, 'Price (Y)')"
            ]
          },
          "metadata": {},
          "execution_count": 9
        },
        {
          "output_type": "display_data",
          "data": {
            "text/plain": [
              "<Figure size 1500x400 with 3 Axes>"
            ],
            "image/png": "[encoded data removed]"
          },
          "metadata": {
            "needs_background": "light"
          }
        }
      ]
    },
    {
      "cell_type": "code",
      "source": [],
      "metadata": {
        "id": "IQkEjZTXNAli"
      },
      "execution_count": null,
      "outputs": []
    }
  ]
}